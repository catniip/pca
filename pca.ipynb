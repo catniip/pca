{
 "cells": [
  {
   "cell_type": "code",
   "execution_count": 1,
   "metadata": {},
   "outputs": [],
   "source": [
    "import pandas as pd\n",
    "import numpy as np\n",
    "import matplotlib.pyplot as plt\n",
    "import seaborn as sns\n",
    "import matplotlib.ticker as mtick\n",
    "\n",
    "from sklearn.preprocessing import StandardScaler\n",
    "from sklearn.decomposition import PCA"
   ]
  },
  {
   "cell_type": "code",
   "execution_count": 2,
   "metadata": {},
   "outputs": [],
   "source": [
    "scalar = StandardScaler()"
   ]
  },
  {
   "cell_type": "code",
   "execution_count": 3,
   "metadata": {},
   "outputs": [],
   "source": [
    "X = np.array([[-1, -1, 4], [-2, -1, 2], [-3, -2, 5], [1, 1, 3], [2, 1, 1], [3, 2, 9]])"
   ]
  },
  {
   "cell_type": "code",
   "execution_count": 4,
   "metadata": {},
   "outputs": [],
   "source": [
    "# Fitting and normalizing\n",
    "scalar.fit(X)\n",
    "scaled_data = scalar.transform(X)"
   ]
  },
  {
   "cell_type": "code",
   "execution_count": 6,
   "metadata": {},
   "outputs": [],
   "source": [
    "# Set PCA \n",
    "n = 3 # number of principle components\n",
    "pca = PCA(n_components = n)\n",
    "pca_transformed_data = pca.fit_transform(scaled_data)\n",
    "\n",
    "pca_transformed_data = pd.DataFrame(data=pca_transformed_data, columns=['PC %s' %i for i in range(1,n+1)])"
   ]
  },
  {
   "cell_type": "code",
   "execution_count": 7,
   "metadata": {},
   "outputs": [
    {
     "ename": "NameError",
     "evalue": "name 'normed' is not defined",
     "output_type": "error",
     "traceback": [
      "Traceback \u001b[0;36m(most recent call last)\u001b[0m:\n",
      "\u001b[0;36m  File \u001b[0;32m\"<ipython-input-7-a13028560187>\"\u001b[0;36m, line \u001b[0;32m2\u001b[0;36m, in \u001b[0;35m<module>\u001b[0;36m\u001b[0m\n\u001b[0;31m    corr = normed.corr()\u001b[0m\n",
      "\u001b[0;31mNameError\u001b[0m\u001b[0;31m:\u001b[0m name 'normed' is not defined\n"
     ]
    }
   ],
   "source": [
    "# plot the correlation matrix \n",
    "corr = normed.corr()\n",
    "plt.figure(dpi=200)\n",
    "sns.heatmap(corr, cmap='coolwarm', square=True, annot=True)#, vmin=-1, vmax=1\n",
    "#plt.savefig('corr_matrix.png')\n",
    "#corr.to_csv('Corr_matrix_extracted.csv')"
   ]
  },
  {
   "cell_type": "code",
   "execution_count": 8,
   "metadata": {},
   "outputs": [
    {
     "data": {
      "text/plain": [
       "<matplotlib.axes._subplots.AxesSubplot at 0x7f98d0f6e2b0>"
      ]
     },
     "execution_count": 8,
     "metadata": {},
     "output_type": "execute_result"
    }
   ],
   "source": [
    "# Calculate the covariance matrix\n",
    "cov_matrix_data = pca.get_covariance()\n",
    "cov = pd.DataFrame(cov_matrix_data)\n",
    "plt.figure()\n",
    "sns.heatmap(cov, cmap='coolwarm', square=True, annot=True, vmin=-1, vmax=1)\n",
    "#cov.to_csv('Covariance_matrix.csv')"
   ]
  },
  {
   "cell_type": "code",
   "execution_count": 9,
   "metadata": {},
   "outputs": [],
   "source": [
    "# Eigen decomposition of covariance matrix\n",
    "eig_val, eig_vect = np.linalg.eig(cov_matrix_data)\n",
    "# Make a list of (eigenvalue, eigenvector) tuples\n",
    "eig_pa = [(np.abs(eig_val[i]), eig_vect[:,i]) for i in range(len(eig_val))]\n",
    "\n",
    "# Sort the (eigenvalue, eigenvector) tuples from high to low\n",
    "eig_pa.sort(key = lambda eig_pa: eig_pa[0])\n",
    "eig_pa.reverse()"
   ]
  },
  {
   "cell_type": "code",
   "execution_count": null,
   "metadata": {},
   "outputs": [],
   "source": []
  }
 ],
 "metadata": {
  "kernelspec": {
   "display_name": "Python 3 (Spyder)",
   "language": "python3",
   "name": "python3"
  },
  "language_info": {
   "codemirror_mode": {
    "name": "ipython",
    "version": 3
   },
   "file_extension": ".py",
   "mimetype": "text/x-python",
   "name": "python",
   "nbconvert_exporter": "python",
   "pygments_lexer": "ipython3",
   "version": "3.7.0"
  }
 },
 "nbformat": 4,
 "nbformat_minor": 4
}
